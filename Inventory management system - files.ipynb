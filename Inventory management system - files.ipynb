{
 "cells": [
  {
   "cell_type": "code",
   "execution_count": 2,
   "id": "a4db044d",
   "metadata": {},
   "outputs": [
    {
     "name": "stdout",
     "output_type": "stream",
     "text": [
      "hello world, welcome to india.\n",
      "The earliest evidence of prehistoric warfare is a Mesolithic cemetery in Jebel Sahaba, which has been determined to be about 13,400 years old.[6] About forty-five percent of the skeletons there displayed signs of violent death, specifically traumatic bone lesions.[7]\n",
      "\n",
      "Since the rise of the state some 5,000 years ago,[8] military activity has occurred over much of the globe. Estimates for total deaths due to war vary wildly. For the period 3000 BCE until 1991, estimates range from 145 million to 2 billion.[9] In one estimate, primitive warfare prior to 3000 BCE has been thought to have claimed 400 million victims based on the assumption that it accounted for the 15.1% of all deaths.[10] For comparison, an estimated 1,680,000,000 people died from infectious diseases in the 20th century.[11]\n",
      "\n",
      "In War Before Civilization, Lawrence H. Keeley, a professor at the University of Illinois, says approximately 90â€“95% of known societies throughout history engaged in at least occasional warfare,[12] and many fought constantly.[13]\n",
      "\n",
      "Keeley describes several styles of primitive combat such as small raids, large raids, and massacres. All of these forms of warfare were used by primitive societies, a finding supported by other researchers.[14] Keeley explains that early war raids were not well organized, as the participants did not have any formal training. Scarcity of resources meant defensive works were not a cost-effective way to protect the society against enemy raids.[15]\n",
      "\n",
      "William Rubinstein wrote \"Pre-literate societies, even those organized in a relatively advanced way, were renowned for their studied cruelty.'\"[16] The invention of gunpowder, and its eventual use in warfare, together with the acceleration of technological advances have fomented major changes to war itself.\n",
      "\n",
      "\n",
      "Japanese samurai attacking a Mongol ship, 13th century\n",
      "In Western Europe, since the late 18th century, more than 150 conflicts and about 600 battles have taken place.[17] During the 20th century, war resulted in a dramatic intensification of the pace of social changes, and was a crucial catalyst for the growth of left-wing politics.[18]\n",
      "\n",
      "\n",
      "Finnish soldiers during the Winter War.\n",
      "In 1947, in view of the rapidly increasingly destructive consequences of modern warfare, and with a particular concern for the consequences and costs of the newly developed atom bomb, Albert Einstein famously stated, \"I know not with what weapons World War III will be fought, but World War IV will be fought with sticks and stones.\"[19]\n",
      "\n",
      "Mao Zedong urged the socialist camp not to fear nuclear war with the United States since, even if \"half of mankind died, the other half would remain while imperialism would be razed to the ground and the whole world would become socialist.\"[20]\n",
      "\n",
      "A distinctive feature of war since 1945 is that combat has largely been a matter of civil wars and insurgencies.[21] The major exceptions were the Korean War, the Indo-Pakistani War of 1971, the Iranâ€“Iraq War, the Gulf War, the Eritreanâ€“Ethiopian War, and the Russo-Ukrainian War.\n",
      "\n",
      "\n",
      "American tanks moving in formation during the Gulf War.\n",
      "The Human Security Report 2005 documented a significant decline in the number and severity of armed conflicts since the end of the Cold War in the early 1990s. However, the evidence examined in the 2008 edition of the Center for International Development and Conflict Management's \"Peace and Conflict\" study indicated the overall decline in conflicts had stalled.[22]\n"
     ]
    }
   ],
   "source": [
    "# read data from the file\n",
    "fd = open(\"datafile.txt\",'r')\n",
    "notes = fd.read()\n",
    "print(notes)\n",
    "fd.close()"
   ]
  },
  {
   "cell_type": "code",
   "execution_count": null,
   "id": "fe58210d",
   "metadata": {},
   "outputs": [],
   "source": [
    "# reading data from text-file corpus"
   ]
  },
  {
   "cell_type": "code",
   "execution_count": 4,
   "id": "b7d56551",
   "metadata": {},
   "outputs": [
    {
     "data": {
      "text/plain": [
       "'hello world, welcome to india.\\nThe earliest evidence of prehistoric warfare is a Mesolithic cemetery in Jebel Sahaba, which has been determined to be about 13,400 years old.[6] About forty-five percent of the skeletons there displayed signs of violent death, specifically traumatic bone lesions.[7]\\n\\nSince the rise of the state some 5,000 years ago,[8] military activity has occurred over much of the globe. Estimates for total deaths due to war vary wildly. For the period 3000 BCE until 1991, estimates range from 145 million to 2 billion.[9] In one estimate, primitive warfare prior to 3000 BCE has been thought to have claimed 400 million victims based on the assumption that it accounted for the 15.1% of all deaths.[10] For comparison, an estimated 1,680,000,000 people died from infectious diseases in the 20th century.[11]\\n\\nIn War Before Civilization, Lawrence H. Keeley, a professor at the University of Illinois, says approximately 90â€“95% of known societies throughout history engaged in at least occasional warfare,[12] and many fought constantly.[13]\\n\\nKeeley describes several styles of primitive combat such as small raids, large raids, and massacres. All of these forms of warfare were used by primitive societies, a finding supported by other researchers.[14] Keeley explains that early war raids were not well organized, as the participants did not have any formal training. Scarcity of resources meant defensive works were not a cost-effective way to protect the society against enemy raids.[15]\\n\\nWilliam Rubinstein wrote \"Pre-literate societies, even those organized in a relatively advanced way, were renowned for their studied cruelty.\\'\"[16] The invention of gunpowder, and its eventual use in warfare, together with the acceleration of technological advances have fomented major changes to war itself.\\n\\n\\nJapanese samurai attacking a Mongol ship, 13th century\\nIn Western Europe, since the late 18th century, more than 150 conflicts and about 600 battles have taken place.[17] During the 20th century, war resulted in a dramatic intensification of the pace of social changes, and was a crucial catalyst for the growth of left-wing politics.[18]\\n\\n\\nFinnish soldiers during the Winter War.\\nIn 1947, in view of the rapidly increasingly destructive consequences of modern warfare, and with a particular concern for the consequences and costs of the newly developed atom bomb, Albert Einstein famously stated, \"I know not with what weapons World War III will be fought, but World War IV will be fought with sticks and stones.\"[19]\\n\\nMao Zedong urged the socialist camp not to fear nuclear war with the United States since, even if \"half of mankind died, the other half would remain while imperialism would be razed to the ground and the whole world would become socialist.\"[20]\\n\\nA distinctive feature of war since 1945 is that combat has largely been a matter of civil wars and insurgencies.[21] The major exceptions were the Korean War, the Indo-Pakistani War of 1971, the Iranâ€“Iraq War, the Gulf War, the Eritreanâ€“Ethiopian War, and the Russo-Ukrainian War.\\n\\n\\nAmerican tanks moving in formation during the Gulf War.\\nThe Human Security Report 2005 documented a significant decline in the number and severity of armed conflicts since the end of the Cold War in the early 1990s. However, the evidence examined in the 2008 edition of the Center for International Development and Conflict Management\\'s \"Peace and Conflict\" study indicated the overall decline in conflicts had stalled.[22]'"
      ]
     },
     "execution_count": 4,
     "metadata": {},
     "output_type": "execute_result"
    }
   ],
   "source": [
    "notes # raw text"
   ]
  },
  {
   "cell_type": "code",
   "execution_count": 5,
   "id": "6f12345c",
   "metadata": {},
   "outputs": [
    {
     "data": {
      "text/plain": [
       "['hello world, welcome to india.\\nThe earliest evidence of prehistoric warfare is a Mesolithic cemetery in Jebel Sahaba, which has been determined to be about 13,400 years old.[6] About forty-five percent of the skeletons there displayed signs of violent death, specifically traumatic bone lesions.[7]',\n",
       " 'Since the rise of the state some 5,000 years ago,[8] military activity has occurred over much of the globe. Estimates for total deaths due to war vary wildly. For the period 3000 BCE until 1991, estimates range from 145 million to 2 billion.[9] In one estimate, primitive warfare prior to 3000 BCE has been thought to have claimed 400 million victims based on the assumption that it accounted for the 15.1% of all deaths.[10] For comparison, an estimated 1,680,000,000 people died from infectious diseases in the 20th century.[11]',\n",
       " 'In War Before Civilization, Lawrence H. Keeley, a professor at the University of Illinois, says approximately 90â€“95% of known societies throughout history engaged in at least occasional warfare,[12] and many fought constantly.[13]',\n",
       " 'Keeley describes several styles of primitive combat such as small raids, large raids, and massacres. All of these forms of warfare were used by primitive societies, a finding supported by other researchers.[14] Keeley explains that early war raids were not well organized, as the participants did not have any formal training. Scarcity of resources meant defensive works were not a cost-effective way to protect the society against enemy raids.[15]',\n",
       " 'William Rubinstein wrote \"Pre-literate societies, even those organized in a relatively advanced way, were renowned for their studied cruelty.\\'\"[16] The invention of gunpowder, and its eventual use in warfare, together with the acceleration of technological advances have fomented major changes to war itself.',\n",
       " '\\nJapanese samurai attacking a Mongol ship, 13th century\\nIn Western Europe, since the late 18th century, more than 150 conflicts and about 600 battles have taken place.[17] During the 20th century, war resulted in a dramatic intensification of the pace of social changes, and was a crucial catalyst for the growth of left-wing politics.[18]',\n",
       " '\\nFinnish soldiers during the Winter War.\\nIn 1947, in view of the rapidly increasingly destructive consequences of modern warfare, and with a particular concern for the consequences and costs of the newly developed atom bomb, Albert Einstein famously stated, \"I know not with what weapons World War III will be fought, but World War IV will be fought with sticks and stones.\"[19]',\n",
       " 'Mao Zedong urged the socialist camp not to fear nuclear war with the United States since, even if \"half of mankind died, the other half would remain while imperialism would be razed to the ground and the whole world would become socialist.\"[20]',\n",
       " 'A distinctive feature of war since 1945 is that combat has largely been a matter of civil wars and insurgencies.[21] The major exceptions were the Korean War, the Indo-Pakistani War of 1971, the Iranâ€“Iraq War, the Gulf War, the Eritreanâ€“Ethiopian War, and the Russo-Ukrainian War.',\n",
       " '\\nAmerican tanks moving in formation during the Gulf War.\\nThe Human Security Report 2005 documented a significant decline in the number and severity of armed conflicts since the end of the Cold War in the early 1990s. However, the evidence examined in the 2008 edition of the Center for International Development and Conflict Management\\'s \"Peace and Conflict\" study indicated the overall decline in conflicts had stalled.[22]']"
      ]
     },
     "execution_count": 5,
     "metadata": {},
     "output_type": "execute_result"
    }
   ],
   "source": [
    "notes.split(\"\\n\\n\")"
   ]
  },
  {
   "cell_type": "code",
   "execution_count": 6,
   "id": "546d71f3",
   "metadata": {},
   "outputs": [
    {
     "data": {
      "text/plain": [
       "3503"
      ]
     },
     "execution_count": 6,
     "metadata": {},
     "output_type": "execute_result"
    }
   ],
   "source": [
    "len(notes)"
   ]
  },
  {
   "cell_type": "code",
   "execution_count": 7,
   "id": "e17c7345",
   "metadata": {
    "scrolled": false
   },
   "outputs": [
    {
     "data": {
      "text/plain": [
       "'hello world, welcome to india.\\nThe earliest evidence of prehistoric warfare is a Mesolithic cemetery in Jebel Sahaba, which has been determined to be about 13,400 years old.[6] About forty-five percent of the skeletons there displayed signs of violent death, specifically traumatic bone lesions.[7] Since the rise of the state some 5,000 years ago,[8] military activity has occurred over much of the globe. Estimates for total deaths due to war vary wildly. For the period 3000 BCE until 1991, estimates range from 145 million to 2 billion.[9] In one estimate, primitive warfare prior to 3000 BCE has been thought to have claimed 400 million victims based on the assumption that it accounted for the 15.1% of all deaths.[10] For comparison, an estimated 1,680,000,000 people died from infectious diseases in the 20th century.[11] In War Before Civilization, Lawrence H. Keeley, a professor at the University of Illinois, says approximately 90â€“95% of known societies throughout history engaged in at least occasional warfare,[12] and many fought constantly.[13] Keeley describes several styles of primitive combat such as small raids, large raids, and massacres. All of these forms of warfare were used by primitive societies, a finding supported by other researchers.[14] Keeley explains that early war raids were not well organized, as the participants did not have any formal training. Scarcity of resources meant defensive works were not a cost-effective way to protect the society against enemy raids.[15] William Rubinstein wrote \"Pre-literate societies, even those organized in a relatively advanced way, were renowned for their studied cruelty.\\'\"[16] The invention of gunpowder, and its eventual use in warfare, together with the acceleration of technological advances have fomented major changes to war itself. \\nJapanese samurai attacking a Mongol ship, 13th century\\nIn Western Europe, since the late 18th century, more than 150 conflicts and about 600 battles have taken place.[17] During the 20th century, war resulted in a dramatic intensification of the pace of social changes, and was a crucial catalyst for the growth of left-wing politics.[18] \\nFinnish soldiers during the Winter War.\\nIn 1947, in view of the rapidly increasingly destructive consequences of modern warfare, and with a particular concern for the consequences and costs of the newly developed atom bomb, Albert Einstein famously stated, \"I know not with what weapons World War III will be fought, but World War IV will be fought with sticks and stones.\"[19] Mao Zedong urged the socialist camp not to fear nuclear war with the United States since, even if \"half of mankind died, the other half would remain while imperialism would be razed to the ground and the whole world would become socialist.\"[20] A distinctive feature of war since 1945 is that combat has largely been a matter of civil wars and insurgencies.[21] The major exceptions were the Korean War, the Indo-Pakistani War of 1971, the Iranâ€“Iraq War, the Gulf War, the Eritreanâ€“Ethiopian War, and the Russo-Ukrainian War. \\nAmerican tanks moving in formation during the Gulf War.\\nThe Human Security Report 2005 documented a significant decline in the number and severity of armed conflicts since the end of the Cold War in the early 1990s. However, the evidence examined in the 2008 edition of the Center for International Development and Conflict Management\\'s \"Peace and Conflict\" study indicated the overall decline in conflicts had stalled.[22]'"
      ]
     },
     "execution_count": 7,
     "metadata": {},
     "output_type": "execute_result"
    }
   ],
   "source": [
    "# replace the text with spaces\n",
    "notes.replace(\"\\n\\n\",\" \")"
   ]
  },
  {
   "cell_type": "code",
   "execution_count": 9,
   "id": "c61948f7",
   "metadata": {},
   "outputs": [
    {
     "data": {
      "text/plain": [
       "str"
      ]
     },
     "execution_count": 9,
     "metadata": {},
     "output_type": "execute_result"
    }
   ],
   "source": [
    "type(notes)"
   ]
  },
  {
   "cell_type": "code",
   "execution_count": 13,
   "id": "abe05adc",
   "metadata": {},
   "outputs": [],
   "source": [
    "per = notes.split(\"\\n\\n\")"
   ]
  },
  {
   "cell_type": "code",
   "execution_count": 14,
   "id": "3267086a",
   "metadata": {
    "scrolled": true
   },
   "outputs": [
    {
     "data": {
      "text/plain": [
       "['hello world, welcome to india.\\nThe earliest evidence of prehistoric warfare is a Mesolithic cemetery in Jebel Sahaba, which has been determined to be about 13,400 years old.[6] About forty-five percent of the skeletons there displayed signs of violent death, specifically traumatic bone lesions.[7]',\n",
       " 'Since the rise of the state some 5,000 years ago,[8] military activity has occurred over much of the globe. Estimates for total deaths due to war vary wildly. For the period 3000 BCE until 1991, estimates range from 145 million to 2 billion.[9] In one estimate, primitive warfare prior to 3000 BCE has been thought to have claimed 400 million victims based on the assumption that it accounted for the 15.1% of all deaths.[10] For comparison, an estimated 1,680,000,000 people died from infectious diseases in the 20th century.[11]',\n",
       " 'In War Before Civilization, Lawrence H. Keeley, a professor at the University of Illinois, says approximately 90â€“95% of known societies throughout history engaged in at least occasional warfare,[12] and many fought constantly.[13]',\n",
       " 'Keeley describes several styles of primitive combat such as small raids, large raids, and massacres. All of these forms of warfare were used by primitive societies, a finding supported by other researchers.[14] Keeley explains that early war raids were not well organized, as the participants did not have any formal training. Scarcity of resources meant defensive works were not a cost-effective way to protect the society against enemy raids.[15]',\n",
       " 'William Rubinstein wrote \"Pre-literate societies, even those organized in a relatively advanced way, were renowned for their studied cruelty.\\'\"[16] The invention of gunpowder, and its eventual use in warfare, together with the acceleration of technological advances have fomented major changes to war itself.',\n",
       " '\\nJapanese samurai attacking a Mongol ship, 13th century\\nIn Western Europe, since the late 18th century, more than 150 conflicts and about 600 battles have taken place.[17] During the 20th century, war resulted in a dramatic intensification of the pace of social changes, and was a crucial catalyst for the growth of left-wing politics.[18]',\n",
       " '\\nFinnish soldiers during the Winter War.\\nIn 1947, in view of the rapidly increasingly destructive consequences of modern warfare, and with a particular concern for the consequences and costs of the newly developed atom bomb, Albert Einstein famously stated, \"I know not with what weapons World War III will be fought, but World War IV will be fought with sticks and stones.\"[19]',\n",
       " 'Mao Zedong urged the socialist camp not to fear nuclear war with the United States since, even if \"half of mankind died, the other half would remain while imperialism would be razed to the ground and the whole world would become socialist.\"[20]',\n",
       " 'A distinctive feature of war since 1945 is that combat has largely been a matter of civil wars and insurgencies.[21] The major exceptions were the Korean War, the Indo-Pakistani War of 1971, the Iranâ€“Iraq War, the Gulf War, the Eritreanâ€“Ethiopian War, and the Russo-Ukrainian War.',\n",
       " '\\nAmerican tanks moving in formation during the Gulf War.\\nThe Human Security Report 2005 documented a significant decline in the number and severity of armed conflicts since the end of the Cold War in the early 1990s. However, the evidence examined in the 2008 edition of the Center for International Development and Conflict Management\\'s \"Peace and Conflict\" study indicated the overall decline in conflicts had stalled.[22]']"
      ]
     },
     "execution_count": 14,
     "metadata": {},
     "output_type": "execute_result"
    }
   ],
   "source": [
    "per"
   ]
  },
  {
   "cell_type": "code",
   "execution_count": 15,
   "id": "86cc5e11",
   "metadata": {},
   "outputs": [
    {
     "data": {
      "text/plain": [
       "10"
      ]
     },
     "execution_count": 15,
     "metadata": {},
     "output_type": "execute_result"
    }
   ],
   "source": [
    "len(per)"
   ]
  },
  {
   "cell_type": "markdown",
   "id": "7ccfad19",
   "metadata": {},
   "source": [
    "#paragraph"
   ]
  },
  {
   "cell_type": "code",
   "execution_count": 17,
   "id": "6d311544",
   "metadata": {},
   "outputs": [],
   "source": [
    "per = notes.split(\".\")"
   ]
  },
  {
   "cell_type": "code",
   "execution_count": 18,
   "id": "5a775237",
   "metadata": {
    "scrolled": true
   },
   "outputs": [
    {
     "data": {
      "text/plain": [
       "['hello world, welcome to india',\n",
       " '\\nThe earliest evidence of prehistoric warfare is a Mesolithic cemetery in Jebel Sahaba, which has been determined to be about 13,400 years old',\n",
       " '[6] About forty-five percent of the skeletons there displayed signs of violent death, specifically traumatic bone lesions',\n",
       " '[7]\\n\\nSince the rise of the state some 5,000 years ago,[8] military activity has occurred over much of the globe',\n",
       " ' Estimates for total deaths due to war vary wildly',\n",
       " ' For the period 3000 BCE until 1991, estimates range from 145 million to 2 billion',\n",
       " '[9] In one estimate, primitive warfare prior to 3000 BCE has been thought to have claimed 400 million victims based on the assumption that it accounted for the 15',\n",
       " '1% of all deaths',\n",
       " '[10] For comparison, an estimated 1,680,000,000 people died from infectious diseases in the 20th century',\n",
       " '[11]\\n\\nIn War Before Civilization, Lawrence H',\n",
       " ' Keeley, a professor at the University of Illinois, says approximately 90â€“95% of known societies throughout history engaged in at least occasional warfare,[12] and many fought constantly',\n",
       " '[13]\\n\\nKeeley describes several styles of primitive combat such as small raids, large raids, and massacres',\n",
       " ' All of these forms of warfare were used by primitive societies, a finding supported by other researchers',\n",
       " '[14] Keeley explains that early war raids were not well organized, as the participants did not have any formal training',\n",
       " ' Scarcity of resources meant defensive works were not a cost-effective way to protect the society against enemy raids',\n",
       " '[15]\\n\\nWilliam Rubinstein wrote \"Pre-literate societies, even those organized in a relatively advanced way, were renowned for their studied cruelty',\n",
       " '\\'\"[16] The invention of gunpowder, and its eventual use in warfare, together with the acceleration of technological advances have fomented major changes to war itself',\n",
       " '\\n\\n\\nJapanese samurai attacking a Mongol ship, 13th century\\nIn Western Europe, since the late 18th century, more than 150 conflicts and about 600 battles have taken place',\n",
       " '[17] During the 20th century, war resulted in a dramatic intensification of the pace of social changes, and was a crucial catalyst for the growth of left-wing politics',\n",
       " '[18]\\n\\n\\nFinnish soldiers during the Winter War',\n",
       " '\\nIn 1947, in view of the rapidly increasingly destructive consequences of modern warfare, and with a particular concern for the consequences and costs of the newly developed atom bomb, Albert Einstein famously stated, \"I know not with what weapons World War III will be fought, but World War IV will be fought with sticks and stones',\n",
       " '\"[19]\\n\\nMao Zedong urged the socialist camp not to fear nuclear war with the United States since, even if \"half of mankind died, the other half would remain while imperialism would be razed to the ground and the whole world would become socialist',\n",
       " '\"[20]\\n\\nA distinctive feature of war since 1945 is that combat has largely been a matter of civil wars and insurgencies',\n",
       " '[21] The major exceptions were the Korean War, the Indo-Pakistani War of 1971, the Iranâ€“Iraq War, the Gulf War, the Eritreanâ€“Ethiopian War, and the Russo-Ukrainian War',\n",
       " '\\n\\n\\nAmerican tanks moving in formation during the Gulf War',\n",
       " '\\nThe Human Security Report 2005 documented a significant decline in the number and severity of armed conflicts since the end of the Cold War in the early 1990s',\n",
       " ' However, the evidence examined in the 2008 edition of the Center for International Development and Conflict Management\\'s \"Peace and Conflict\" study indicated the overall decline in conflicts had stalled',\n",
       " '[22]']"
      ]
     },
     "execution_count": 18,
     "metadata": {},
     "output_type": "execute_result"
    }
   ],
   "source": [
    "per"
   ]
  },
  {
   "cell_type": "code",
   "execution_count": 21,
   "id": "1929781f",
   "metadata": {},
   "outputs": [
    {
     "data": {
      "text/plain": [
       "']'"
      ]
     },
     "execution_count": 21,
     "metadata": {},
     "output_type": "execute_result"
    }
   ],
   "source": [
    "notes[-1]"
   ]
  },
  {
   "cell_type": "code",
   "execution_count": 27,
   "id": "6ad54cad",
   "metadata": {},
   "outputs": [
    {
     "data": {
      "text/plain": [
       "532"
      ]
     },
     "execution_count": 27,
     "metadata": {},
     "output_type": "execute_result"
    }
   ],
   "source": [
    "len(lines)"
   ]
  },
  {
   "cell_type": "code",
   "execution_count": 23,
   "id": "7312d39c",
   "metadata": {},
   "outputs": [
    {
     "data": {
      "text/plain": [
       "3502"
      ]
     },
     "execution_count": 23,
     "metadata": {},
     "output_type": "execute_result"
    }
   ],
   "source": [
    "len(notes[:-1])"
   ]
  },
  {
   "cell_type": "markdown",
   "id": "71ebea8a",
   "metadata": {},
   "source": [
    "# worlds"
   ]
  },
  {
   "cell_type": "code",
   "execution_count": 31,
   "id": "972e59e1",
   "metadata": {},
   "outputs": [],
   "source": [
    "words = notes.split(\" \")"
   ]
  },
  {
   "cell_type": "code",
   "execution_count": 32,
   "id": "76436fd1",
   "metadata": {},
   "outputs": [
    {
     "data": {
      "text/plain": [
       "['hello',\n",
       " 'world,',\n",
       " 'welcome',\n",
       " 'to',\n",
       " 'india.\\nThe',\n",
       " 'earliest',\n",
       " 'evidence',\n",
       " 'of',\n",
       " 'prehistoric',\n",
       " 'warfare',\n",
       " 'is',\n",
       " 'a',\n",
       " 'Mesolithic',\n",
       " 'cemetery',\n",
       " 'in',\n",
       " 'Jebel',\n",
       " 'Sahaba,',\n",
       " 'which',\n",
       " 'has',\n",
       " 'been',\n",
       " 'determined',\n",
       " 'to',\n",
       " 'be',\n",
       " 'about',\n",
       " '13,400',\n",
       " 'years',\n",
       " 'old.[6]',\n",
       " 'About',\n",
       " 'forty-five',\n",
       " 'percent',\n",
       " 'of',\n",
       " 'the',\n",
       " 'skeletons',\n",
       " 'there',\n",
       " 'displayed',\n",
       " 'signs',\n",
       " 'of',\n",
       " 'violent',\n",
       " 'death,',\n",
       " 'specifically',\n",
       " 'traumatic',\n",
       " 'bone',\n",
       " 'lesions.[7]\\n\\nSince',\n",
       " 'the',\n",
       " 'rise',\n",
       " 'of',\n",
       " 'the',\n",
       " 'state',\n",
       " 'some',\n",
       " '5,000',\n",
       " 'years',\n",
       " 'ago,[8]',\n",
       " 'military',\n",
       " 'activity',\n",
       " 'has',\n",
       " 'occurred',\n",
       " 'over',\n",
       " 'much',\n",
       " 'of',\n",
       " 'the',\n",
       " 'globe.',\n",
       " 'Estimates',\n",
       " 'for',\n",
       " 'total',\n",
       " 'deaths',\n",
       " 'due',\n",
       " 'to',\n",
       " 'war',\n",
       " 'vary',\n",
       " 'wildly.',\n",
       " 'For',\n",
       " 'the',\n",
       " 'period',\n",
       " '3000',\n",
       " 'BCE',\n",
       " 'until',\n",
       " '1991,',\n",
       " 'estimates',\n",
       " 'range',\n",
       " 'from',\n",
       " '145',\n",
       " 'million',\n",
       " 'to',\n",
       " '2',\n",
       " 'billion.[9]',\n",
       " 'In',\n",
       " 'one',\n",
       " 'estimate,',\n",
       " 'primitive',\n",
       " 'warfare',\n",
       " 'prior',\n",
       " 'to',\n",
       " '3000',\n",
       " 'BCE',\n",
       " 'has',\n",
       " 'been',\n",
       " 'thought',\n",
       " 'to',\n",
       " 'have',\n",
       " 'claimed',\n",
       " '400',\n",
       " 'million',\n",
       " 'victims',\n",
       " 'based',\n",
       " 'on',\n",
       " 'the',\n",
       " 'assumption',\n",
       " 'that',\n",
       " 'it',\n",
       " 'accounted',\n",
       " 'for',\n",
       " 'the',\n",
       " '15.1%',\n",
       " 'of',\n",
       " 'all',\n",
       " 'deaths.[10]',\n",
       " 'For',\n",
       " 'comparison,',\n",
       " 'an',\n",
       " 'estimated',\n",
       " '1,680,000,000',\n",
       " 'people',\n",
       " 'died',\n",
       " 'from',\n",
       " 'infectious',\n",
       " 'diseases',\n",
       " 'in',\n",
       " 'the',\n",
       " '20th',\n",
       " 'century.[11]\\n\\nIn',\n",
       " 'War',\n",
       " 'Before',\n",
       " 'Civilization,',\n",
       " 'Lawrence',\n",
       " 'H.',\n",
       " 'Keeley,',\n",
       " 'a',\n",
       " 'professor',\n",
       " 'at',\n",
       " 'the',\n",
       " 'University',\n",
       " 'of',\n",
       " 'Illinois,',\n",
       " 'says',\n",
       " 'approximately',\n",
       " '90â€“95%',\n",
       " 'of',\n",
       " 'known',\n",
       " 'societies',\n",
       " 'throughout',\n",
       " 'history',\n",
       " 'engaged',\n",
       " 'in',\n",
       " 'at',\n",
       " 'least',\n",
       " 'occasional',\n",
       " 'warfare,[12]',\n",
       " 'and',\n",
       " 'many',\n",
       " 'fought',\n",
       " 'constantly.[13]\\n\\nKeeley',\n",
       " 'describes',\n",
       " 'several',\n",
       " 'styles',\n",
       " 'of',\n",
       " 'primitive',\n",
       " 'combat',\n",
       " 'such',\n",
       " 'as',\n",
       " 'small',\n",
       " 'raids,',\n",
       " 'large',\n",
       " 'raids,',\n",
       " 'and',\n",
       " 'massacres.',\n",
       " 'All',\n",
       " 'of',\n",
       " 'these',\n",
       " 'forms',\n",
       " 'of',\n",
       " 'warfare',\n",
       " 'were',\n",
       " 'used',\n",
       " 'by',\n",
       " 'primitive',\n",
       " 'societies,',\n",
       " 'a',\n",
       " 'finding',\n",
       " 'supported',\n",
       " 'by',\n",
       " 'other',\n",
       " 'researchers.[14]',\n",
       " 'Keeley',\n",
       " 'explains',\n",
       " 'that',\n",
       " 'early',\n",
       " 'war',\n",
       " 'raids',\n",
       " 'were',\n",
       " 'not',\n",
       " 'well',\n",
       " 'organized,',\n",
       " 'as',\n",
       " 'the',\n",
       " 'participants',\n",
       " 'did',\n",
       " 'not',\n",
       " 'have',\n",
       " 'any',\n",
       " 'formal',\n",
       " 'training.',\n",
       " 'Scarcity',\n",
       " 'of',\n",
       " 'resources',\n",
       " 'meant',\n",
       " 'defensive',\n",
       " 'works',\n",
       " 'were',\n",
       " 'not',\n",
       " 'a',\n",
       " 'cost-effective',\n",
       " 'way',\n",
       " 'to',\n",
       " 'protect',\n",
       " 'the',\n",
       " 'society',\n",
       " 'against',\n",
       " 'enemy',\n",
       " 'raids.[15]\\n\\nWilliam',\n",
       " 'Rubinstein',\n",
       " 'wrote',\n",
       " '\"Pre-literate',\n",
       " 'societies,',\n",
       " 'even',\n",
       " 'those',\n",
       " 'organized',\n",
       " 'in',\n",
       " 'a',\n",
       " 'relatively',\n",
       " 'advanced',\n",
       " 'way,',\n",
       " 'were',\n",
       " 'renowned',\n",
       " 'for',\n",
       " 'their',\n",
       " 'studied',\n",
       " 'cruelty.\\'\"[16]',\n",
       " 'The',\n",
       " 'invention',\n",
       " 'of',\n",
       " 'gunpowder,',\n",
       " 'and',\n",
       " 'its',\n",
       " 'eventual',\n",
       " 'use',\n",
       " 'in',\n",
       " 'warfare,',\n",
       " 'together',\n",
       " 'with',\n",
       " 'the',\n",
       " 'acceleration',\n",
       " 'of',\n",
       " 'technological',\n",
       " 'advances',\n",
       " 'have',\n",
       " 'fomented',\n",
       " 'major',\n",
       " 'changes',\n",
       " 'to',\n",
       " 'war',\n",
       " 'itself.\\n\\n\\nJapanese',\n",
       " 'samurai',\n",
       " 'attacking',\n",
       " 'a',\n",
       " 'Mongol',\n",
       " 'ship,',\n",
       " '13th',\n",
       " 'century\\nIn',\n",
       " 'Western',\n",
       " 'Europe,',\n",
       " 'since',\n",
       " 'the',\n",
       " 'late',\n",
       " '18th',\n",
       " 'century,',\n",
       " 'more',\n",
       " 'than',\n",
       " '150',\n",
       " 'conflicts',\n",
       " 'and',\n",
       " 'about',\n",
       " '600',\n",
       " 'battles',\n",
       " 'have',\n",
       " 'taken',\n",
       " 'place.[17]',\n",
       " 'During',\n",
       " 'the',\n",
       " '20th',\n",
       " 'century,',\n",
       " 'war',\n",
       " 'resulted',\n",
       " 'in',\n",
       " 'a',\n",
       " 'dramatic',\n",
       " 'intensification',\n",
       " 'of',\n",
       " 'the',\n",
       " 'pace',\n",
       " 'of',\n",
       " 'social',\n",
       " 'changes,',\n",
       " 'and',\n",
       " 'was',\n",
       " 'a',\n",
       " 'crucial',\n",
       " 'catalyst',\n",
       " 'for',\n",
       " 'the',\n",
       " 'growth',\n",
       " 'of',\n",
       " 'left-wing',\n",
       " 'politics.[18]\\n\\n\\nFinnish',\n",
       " 'soldiers',\n",
       " 'during',\n",
       " 'the',\n",
       " 'Winter',\n",
       " 'War.\\nIn',\n",
       " '1947,',\n",
       " 'in',\n",
       " 'view',\n",
       " 'of',\n",
       " 'the',\n",
       " 'rapidly',\n",
       " 'increasingly',\n",
       " 'destructive',\n",
       " 'consequences',\n",
       " 'of',\n",
       " 'modern',\n",
       " 'warfare,',\n",
       " 'and',\n",
       " 'with',\n",
       " 'a',\n",
       " 'particular',\n",
       " 'concern',\n",
       " 'for',\n",
       " 'the',\n",
       " 'consequences',\n",
       " 'and',\n",
       " 'costs',\n",
       " 'of',\n",
       " 'the',\n",
       " 'newly',\n",
       " 'developed',\n",
       " 'atom',\n",
       " 'bomb,',\n",
       " 'Albert',\n",
       " 'Einstein',\n",
       " 'famously',\n",
       " 'stated,',\n",
       " '\"I',\n",
       " 'know',\n",
       " 'not',\n",
       " 'with',\n",
       " 'what',\n",
       " 'weapons',\n",
       " 'World',\n",
       " 'War',\n",
       " 'III',\n",
       " 'will',\n",
       " 'be',\n",
       " 'fought,',\n",
       " 'but',\n",
       " 'World',\n",
       " 'War',\n",
       " 'IV',\n",
       " 'will',\n",
       " 'be',\n",
       " 'fought',\n",
       " 'with',\n",
       " 'sticks',\n",
       " 'and',\n",
       " 'stones.\"[19]\\n\\nMao',\n",
       " 'Zedong',\n",
       " 'urged',\n",
       " 'the',\n",
       " 'socialist',\n",
       " 'camp',\n",
       " 'not',\n",
       " 'to',\n",
       " 'fear',\n",
       " 'nuclear',\n",
       " 'war',\n",
       " 'with',\n",
       " 'the',\n",
       " 'United',\n",
       " 'States',\n",
       " 'since,',\n",
       " 'even',\n",
       " 'if',\n",
       " '\"half',\n",
       " 'of',\n",
       " 'mankind',\n",
       " 'died,',\n",
       " 'the',\n",
       " 'other',\n",
       " 'half',\n",
       " 'would',\n",
       " 'remain',\n",
       " 'while',\n",
       " 'imperialism',\n",
       " 'would',\n",
       " 'be',\n",
       " 'razed',\n",
       " 'to',\n",
       " 'the',\n",
       " 'ground',\n",
       " 'and',\n",
       " 'the',\n",
       " 'whole',\n",
       " 'world',\n",
       " 'would',\n",
       " 'become',\n",
       " 'socialist.\"[20]\\n\\nA',\n",
       " 'distinctive',\n",
       " 'feature',\n",
       " 'of',\n",
       " 'war',\n",
       " 'since',\n",
       " '1945',\n",
       " 'is',\n",
       " 'that',\n",
       " 'combat',\n",
       " 'has',\n",
       " 'largely',\n",
       " 'been',\n",
       " 'a',\n",
       " 'matter',\n",
       " 'of',\n",
       " 'civil',\n",
       " 'wars',\n",
       " 'and',\n",
       " 'insurgencies.[21]',\n",
       " 'The',\n",
       " 'major',\n",
       " 'exceptions',\n",
       " 'were',\n",
       " 'the',\n",
       " 'Korean',\n",
       " 'War,',\n",
       " 'the',\n",
       " 'Indo-Pakistani',\n",
       " 'War',\n",
       " 'of',\n",
       " '1971,',\n",
       " 'the',\n",
       " 'Iranâ€“Iraq',\n",
       " 'War,',\n",
       " 'the',\n",
       " 'Gulf',\n",
       " 'War,',\n",
       " 'the',\n",
       " 'Eritreanâ€“Ethiopian',\n",
       " 'War,',\n",
       " 'and',\n",
       " 'the',\n",
       " 'Russo-Ukrainian',\n",
       " 'War.\\n\\n\\nAmerican',\n",
       " 'tanks',\n",
       " 'moving',\n",
       " 'in',\n",
       " 'formation',\n",
       " 'during',\n",
       " 'the',\n",
       " 'Gulf',\n",
       " 'War.\\nThe',\n",
       " 'Human',\n",
       " 'Security',\n",
       " 'Report',\n",
       " '2005',\n",
       " 'documented',\n",
       " 'a',\n",
       " 'significant',\n",
       " 'decline',\n",
       " 'in',\n",
       " 'the',\n",
       " 'number',\n",
       " 'and',\n",
       " 'severity',\n",
       " 'of',\n",
       " 'armed',\n",
       " 'conflicts',\n",
       " 'since',\n",
       " 'the',\n",
       " 'end',\n",
       " 'of',\n",
       " 'the',\n",
       " 'Cold',\n",
       " 'War',\n",
       " 'in',\n",
       " 'the',\n",
       " 'early',\n",
       " '1990s.',\n",
       " 'However,',\n",
       " 'the',\n",
       " 'evidence',\n",
       " 'examined',\n",
       " 'in',\n",
       " 'the',\n",
       " '2008',\n",
       " 'edition',\n",
       " 'of',\n",
       " 'the',\n",
       " 'Center',\n",
       " 'for',\n",
       " 'International',\n",
       " 'Development',\n",
       " 'and',\n",
       " 'Conflict',\n",
       " \"Management's\",\n",
       " '\"Peace',\n",
       " 'and',\n",
       " 'Conflict\"',\n",
       " 'study',\n",
       " 'indicated',\n",
       " 'the',\n",
       " 'overall',\n",
       " 'decline',\n",
       " 'in',\n",
       " 'conflicts',\n",
       " 'had',\n",
       " 'stalled.[22]']"
      ]
     },
     "execution_count": 32,
     "metadata": {},
     "output_type": "execute_result"
    }
   ],
   "source": [
    "words"
   ]
  },
  {
   "cell_type": "code",
   "execution_count": 33,
   "id": "d8f1a5b6",
   "metadata": {},
   "outputs": [
    {
     "data": {
      "text/plain": [
       "532"
      ]
     },
     "execution_count": 33,
     "metadata": {},
     "output_type": "execute_result"
    }
   ],
   "source": [
    "len(words)"
   ]
  },
  {
   "cell_type": "code",
   "execution_count": null,
   "id": "bba47f1b",
   "metadata": {},
   "outputs": [],
   "source": [
    "# advnace text processing"
   ]
  },
  {
   "cell_type": "code",
   "execution_count": 10,
   "id": "fda99536",
   "metadata": {},
   "outputs": [],
   "source": [
    "filed = open(\"test1.txt\",'r')"
   ]
  },
  {
   "cell_type": "code",
   "execution_count": 11,
   "id": "db34de33",
   "metadata": {},
   "outputs": [],
   "source": [
    "text = filed.read()"
   ]
  },
  {
   "cell_type": "code",
   "execution_count": 14,
   "id": "ae072eda",
   "metadata": {
    "scrolled": true
   },
   "outputs": [
    {
     "data": {
      "text/plain": [
       "'According to consensus in modern genetics, anatomically modern humans first arrived on the Indian subcontinent from Africa between 73,000 and 55,000 years ago. However, the earliest known human remains in South Asia date to 30,000 years ago. Sedentariness, which involves the transition from foraging to farming and pastoralism, began in South Asia around 7000 BCE. At the site of Mehrgarh, its presence can be documented, with evidence of domestication of wheat and barley, rapidly followed by that of goats, sheep, and cattle.[2] By 4500 BCE, such settled life had increasingly spread, [2] and began to gradually evolve into the Indus Valley civilisation, which was contemporaneous with Ancient Egypt and Mesopotamia. This civilisation flourished between 2500 BCE and 1900 BCE in present-day Pakistan and north-western India, and was noted for its urban planning, baked brick houses, elaborate drainage, and water supply.[3]\\n\\nEarly on in the second millennium BCE, persistent drought caused the population of the Indus Valley to scatter from large urban centres to villages. Around the same time, Indo-Aryan tribes moved into the Punjab from Central Asia in several waves of migration. The Vedic Period (1500â€“500 BCE) was marked by the composition of their large collections of hymns called Vedas. Their varna system, which evolved into the caste system, consisted of a hierarchy of priests, warriors, free peasants, and servants. The pastoral and nomadic Indo-Aryans spread from the Punjab into the Gangetic plain, large swaths of which they deforested for agriculture. The composition of Vedic texts ended around 600 BCE, when a new, interregional culture arose. Then, small chieftaincies (janapadas) were consolidated into larger states (mahajanapadas).\\n\\nA second urbanisation took place, which came with the rise of new ascetic movements and religious concepts[4] in Greater Magadha, including the rise of Jainism and Buddhism. These opposed the growing influence of Brahmanism and the primacy of ritualsâ€”often presided by Brahmin priestsâ€”that had come to be associated with Vedic religion.[5] In response to the success of these movements, the latter was synthesised with the preexisting religious cultures of the subcontinent, giving rise to Hinduism.\\n\\n\\nIndian cultural influence (Greater India)\\n\\nTimeline of Indian history.\\nChandragupta Maurya with the guidance of Acharya Chanakya succeeded in overthrowing the Nanda Empire and established the first great empire in ancient India, the Maurya Empire. Most of the Indian subcontinent was conquered by the Maurya Empire during the 4th and 3rd centuries BCE. From the 3rd century BCE onwards, Prakrit and Pali literature in the north and Tamil Sangam literature in southern India started to flourish.[6][7] Wootz steel originated in south India in the 3rd century BCE and was exported.[8][9][10] The Maurya Empire would collapse in 185 BCE, on the assassination of the then-Emperor Brihadratha by his General Pushyamitra Shunga. Shunga would go on to form the Shunga Empire in the North and Northeast of the subcontinent, while the Greco-Bactrian Kingdom would claim the Northwest and found the Indo-Greek Kingdom. Various parts of India were ruled by numerous dynasties, including the Gupta Empire in the 4-6th centuries CE.\\n\\nThis period, witnessing a Hindu religious and intellectual resurgence, is known as the Classical or Golden Age of India. During this time, aspects of Indian civilisation, administration, culture, and religion spread to much of Asia. Kingdoms in southern India had maritime business links with the Middle East and the Mediterranean. Indian cultural influence spread over many parts of Southeast Asia, which led to the establishment of Indianised kingdoms in the region, forming the Greater India.[11][12]\\n\\nThe most significant event between the 7th and 11th century was the Tripartite struggle centred on Kannauj that lasted for more than two centuries between the Pala Empire, Rashtrakuta Empire, and Gurjara-Pratihara Empire. Southern India saw the rise of multiple imperial powers from the middle of the fifth century, most notably the Chalukya, Chola, Pallava, Chera, Pandyan, and Western Chalukya Empires. The Chola dynasty conquered southern India and successfully invaded parts of Southeast Asia, Sri Lanka, the Maldives, and Bengal[13] in the 11th century.[14][15] In the early medieval period Indian mathematics, including Hindu numerals, influenced the development of mathematics and astronomy in the Arab world, including the creation of the Hindu-Arabic numeral system.[16]\\n\\nIslamic conquests made limited inroads into modern Afghanistan and Sindh as early as the 8th century,[17] followed by the invasions of Mahmud Ghazni.[18] The Delhi Sultanate was founded in 1206 CE by Central Asian Turks who ruled a major part of the northern Indian subcontinent in the early 14th century, but declined in the late 14th century,[19] and saw the advent of the Deccan sultanates.[20] The wealthy Bengal Sultanate also emerged as a major power, lasting over three centuries.[21] This period also saw the emergence of several powerful Hindu states, notably the Vijayanagara Empire and Rajput states, such as Mewar. The 15th century saw the advent of Sikhism.\\n\\nThe early modern period began in the 16th century, when the Mughal Empire conquered most of the Indian subcontinent,[22] signaling the proto-industrialization, becoming the biggest global economy and manufacturing power,[23] with a nominal GDP that valued a quarter of world GDP, superior to that of Europe.[24][25] The Mughals suffered a gradual decline in the early 18th century, which provided opportunities for the Marathas, Sikhs, Mysoreans, Nizams, and Nawabs of Bengal to exercise control over large regions of the Indian subcontinent.[26][27]'"
      ]
     },
     "execution_count": 14,
     "metadata": {},
     "output_type": "execute_result"
    }
   ],
   "source": [
    "text.replace('[1]','')"
   ]
  },
  {
   "cell_type": "code",
   "execution_count": 17,
   "id": "8e7f1b5e",
   "metadata": {},
   "outputs": [
    {
     "name": "stdout",
     "output_type": "stream",
     "text": [
      "According to consensus in modern genetics, anatomically modern humans first arrived on the Indian subcontinent from Africa between 73,000 and 55,000 years ago. However, the earliest known human remains in South Asia date to 30,000 years ago. Sedentariness, which involves the transition from foraging to farming and pastoralism, began in South Asia around 7000 BCE. At the site of Mehrgarh, its presence can be documented, with evidence of domestication of wheat and barley, rapidly followed by that of goats, sheep, and cattle. By 4500 BCE, such settled life had increasingly spread,  and began to gradually evolve into the Indus Valley civilisation, which was contemporaneous with Ancient Egypt and Mesopotamia. This civilisation flourished between 2500 BCE and 1900 BCE in present-day Pakistan and north-western India, and was noted for its urban planning, baked brick houses, elaborate drainage, and water supply.\n",
      "\n",
      "Early on in the second millennium BCE, persistent drought caused the population of the Indus Valley to scatter from large urban centres to villages. Around the same time, Indo-Aryan tribes moved into the Punjab from Central Asia in several waves of migration. The Vedic Period (1500â€“500 BCE) was marked by the composition of their large collections of hymns called Vedas. Their varna system, which evolved into the caste system, consisted of a hierarchy of priests, warriors, free peasants, and servants. The pastoral and nomadic Indo-Aryans spread from the Punjab into the Gangetic plain, large swaths of which they deforested for agriculture. The composition of Vedic texts ended around 600 BCE, when a new, interregional culture arose. Then, small chieftaincies (janapadas) were consolidated into larger states (mahajanapadas).\n",
      "\n",
      "A second urbanisation took place, which came with the rise of new ascetic movements and religious concepts in Greater Magadha, including the rise of Jainism and Buddhism. These opposed the growing influence of Brahmanism and the primacy of ritualsâ€”often presided by Brahmin priestsâ€”that had come to be associated with Vedic religion. In response to the success of these movements, the latter was synthesised with the preexisting religious cultures of the subcontinent, giving rise to Hinduism.\n",
      "\n",
      "\n",
      "Indian cultural influence (Greater India)\n",
      "\n",
      "Timeline of Indian history.\n",
      "Chandragupta Maurya with the guidance of Acharya Chanakya succeeded in overthrowing the Nanda Empire and established the first great empire in ancient India, the Maurya Empire. Most of the Indian subcontinent was conquered by the Maurya Empire during the 4th and 3rd centuries BCE. From the 3rd century BCE onwards, Prakrit and Pali literature in the north and Tamil Sangam literature in southern India started to flourish. Wootz steel originated in south India in the 3rd century BCE and was exported. The Maurya Empire would collapse in 185 BCE, on the assassination of the then-Emperor Brihadratha by his General Pushyamitra Shunga. Shunga would go on to form the Shunga Empire in the North and Northeast of the subcontinent, while the Greco-Bactrian Kingdom would claim the Northwest and found the Indo-Greek Kingdom. Various parts of India were ruled by numerous dynasties, including the Gupta Empire in the 4-6th centuries CE.\n",
      "\n",
      "This period, witnessing a Hindu religious and intellectual resurgence, is known as the Classical or Golden Age of India. During this time, aspects of Indian civilisation, administration, culture, and religion spread to much of Asia. Kingdoms in southern India had maritime business links with the Middle East and the Mediterranean. Indian cultural influence spread over many parts of Southeast Asia, which led to the establishment of Indianised kingdoms in the region, forming the Greater India.\n",
      "\n",
      "The most significant event between the 7th and 11th century was the Tripartite struggle centred on Kannauj that lasted for more than two centuries between the Pala Empire, Rashtrakuta Empire, and Gurjara-Pratihara Empire. Southern India saw the rise of multiple imperial powers from the middle of the fifth century, most notably the Chalukya, Chola, Pallava, Chera, Pandyan, and Western Chalukya Empires. The Chola dynasty conquered southern India and successfully invaded parts of Southeast Asia, Sri Lanka, the Maldives, and Bengal in the 11th century. In the early medieval period Indian mathematics, including Hindu numerals, influenced the development of mathematics and astronomy in the Arab world, including the creation of the Hindu-Arabic numeral system.\n",
      "\n",
      "Islamic conquests made limited inroads into modern Afghanistan and Sindh as early as the 8th century, followed by the invasions of Mahmud Ghazni. The Delhi Sultanate was founded in 1206 CE by Central Asian Turks who ruled a major part of the northern Indian subcontinent in the early 14th century, but declined in the late 14th century, and saw the advent of the Deccan sultanates. The wealthy Bengal Sultanate also emerged as a major power, lasting over three centuries. This period also saw the emergence of several powerful Hindu states, notably the Vijayanagara Empire and Rajput states, such as Mewar. The 15th century saw the advent of Sikhism.\n",
      "\n",
      "The early modern period began in the 16th century, when the Mughal Empire conquered most of the Indian subcontinent, signaling the proto-industrialization, becoming the biggest global economy and manufacturing power, with a nominal GDP that valued a quarter of world GDP, superior to that of Europe. The Mughals suffered a gradual decline in the early 18th century, which provided opportunities for the Marathas, Sikhs, Mysoreans, Nizams, and Nawabs of Bengal to exercise control over large regions of the Indian subcontinent.\n"
     ]
    }
   ],
   "source": [
    "for i in range(1,28):\n",
    "    pattern = \"[\" + str(i) + \"]\"\n",
    "    text = text.replace(pattern,\"\")\n",
    "print(text)"
   ]
  },
  {
   "cell_type": "markdown",
   "id": "27d09a05",
   "metadata": {},
   "source": [
    "# writing data on text file"
   ]
  },
  {
   "cell_type": "code",
   "execution_count": 5,
   "id": "832ee07f",
   "metadata": {},
   "outputs": [],
   "source": [
    "# write \n",
    "fdesc = open(\"data2.txt\",'w')\n",
    "fdesc.write(\"I am rishav. I am doing computer science.\")\n",
    "fdesc.close()"
   ]
  },
  {
   "cell_type": "code",
   "execution_count": null,
   "id": "52da53cf",
   "metadata": {},
   "outputs": [],
   "source": [
    "# append in the file"
   ]
  },
  {
   "cell_type": "code",
   "execution_count": 7,
   "id": "3e34792f",
   "metadata": {},
   "outputs": [],
   "source": [
    "fd = open(\"data2.txt\",'a')\n",
    "fd.write(\"this is add up to previous one.\")\n",
    "fd.close()"
   ]
  },
  {
   "cell_type": "markdown",
   "id": "3a8738f4",
   "metadata": {},
   "source": [
    "# writing data on a text-file with next line"
   ]
  },
  {
   "cell_type": "code",
   "execution_count": 10,
   "id": "86a4f6c1",
   "metadata": {},
   "outputs": [
    {
     "name": "stdout",
     "output_type": "stream",
     "text": [
      "Enter input here: Today weather is great\n"
     ]
    }
   ],
   "source": [
    "fd = open(\"data2.txt\",'a')\n",
    "text = input(\"Enter input here: \")\n",
    "text = text + \".\\n\"\n",
    "fd.write(text)\n",
    "fd.close()"
   ]
  },
  {
   "cell_type": "markdown",
   "id": "f616aafc",
   "metadata": {},
   "source": [
    "# Inventry mangemment with files - overview"
   ]
  },
  {
   "cell_type": "code",
   "execution_count": 21,
   "id": "7c021eed",
   "metadata": {},
   "outputs": [],
   "source": [
    "fd = open(\"Inventory.txt\",'r')"
   ]
  },
  {
   "cell_type": "code",
   "execution_count": 22,
   "id": "635b4d4c",
   "metadata": {},
   "outputs": [
    {
     "name": "stdout",
     "output_type": "stream",
     "text": [
      "['1, oero, 10, 100', '1, bread, 50, 10', '3, oneplus nord, 20000, 10', '4, asus, 30000, 2']\n"
     ]
    }
   ],
   "source": [
    "x = fd.read()\n",
    "lst = x.split(\"\\n\")\n",
    "print(lst)\n",
    "fd.close()"
   ]
  },
  {
   "cell_type": "markdown",
   "id": "f52719b5",
   "metadata": {},
   "source": [
    "# Inventry management with files - bill generation"
   ]
  },
  {
   "cell_type": "code",
   "execution_count": 23,
   "id": "6b50aa0e",
   "metadata": {},
   "outputs": [
    {
     "name": "stdout",
     "output_type": "stream",
     "text": [
      "['1', ' oero', ' 10', ' 100']\n",
      "['1', ' bread', ' 50', ' 10']\n",
      "['3', ' oneplus nord', ' 20000', ' 10']\n",
      "['4', ' asus', ' 30000', ' 2']\n"
     ]
    }
   ],
   "source": [
    "for i in lst:\n",
    "    print(i.split(\",\"))"
   ]
  },
  {
   "cell_type": "code",
   "execution_count": 25,
   "id": "50d800b5",
   "metadata": {},
   "outputs": [
    {
     "name": "stdout",
     "output_type": "stream",
     "text": [
      "Enter product id: 3\n",
      "Enter product quantity: 8\n",
      "-----------------------------\n",
      "Product Name    : oneplus nord\n",
      "Price           : 20000\n",
      "Quantity        : 8\n",
      "------------------------------\n",
      "Billing Amount  : 160000\n"
     ]
    }
   ],
   "source": [
    "# bill generation\n",
    "ui_product_id = input(\"Enter product id: \")\n",
    "ui_product_q = input(\"Enter product quantity: \")\n",
    "for i in lst:\n",
    "    product_detail = i.split(\", \")\n",
    "    if ui_product_id == product_detail[0]:\n",
    "        print(\"-----------------------------\")\n",
    "        print(\"Product Name    :\",product_detail[1])\n",
    "        print(\"Price           :\",product_detail[2])\n",
    "        print(\"Quantity        :\",ui_product_q)\n",
    "        print(\"------------------------------\")\n",
    "        print(\"Billing Amount  :\",int(product_detail[2])*int(ui_product_q))"
   ]
  },
  {
   "cell_type": "markdown",
   "id": "b7a88222",
   "metadata": {},
   "source": [
    "# updated list"
   ]
  },
  {
   "cell_type": "code",
   "execution_count": 1,
   "id": "814da379",
   "metadata": {},
   "outputs": [
    {
     "name": "stdout",
     "output_type": "stream",
     "text": [
      "Enter your username: rishav\n",
      "Enter your mail id: rishavbagh2003@gamil.com\n",
      "Enter your phone number: 7876596480\n",
      "Enter product id: 1\n",
      "Enter product quantity: 100\n",
      "Sorry, We have only 80 quantity.\n",
      "W'd you like to purchase, Please press Y/N : \n",
      "y\n",
      "-----------------------------\n",
      "Product Name    : oero\n",
      "Price           : 10\n",
      "Quantity        : 80\n",
      "------------------------------\n",
      "Billing Amount  : 800\n",
      "-----------------\n",
      "Inventory Updated\n"
     ]
    }
   ],
   "source": [
    "# bill generation\n",
    "import time\n",
    "fd = open(\"Inventory.txt\",'r')\n",
    "x = fd.read()\n",
    "lst = x.split(\"\\n\")\n",
    "\n",
    "ui_username   = input(\"Enter your username: \")\n",
    "ui_mail       =  input(\"Enter your mail id: \")\n",
    "ui_phone      = input(\"Enter your phone number: \")\n",
    "ui_product_id = input(\"Enter product id: \")\n",
    "ui_product_q  = input(\"Enter product quantity: \")\n",
    "\n",
    "updated_list = []\n",
    "\n",
    "for i in lst:\n",
    "    product_detail = i.split(\", \")\n",
    "    if ui_product_id == product_detail[0]:\n",
    "        if int(ui_product_q) <= int(product_detail[3]):\n",
    "            #if we have enough quantity\n",
    "            print(\"-----------------------------\")\n",
    "            print(\"Product Name    :\",product_detail[1])\n",
    "            print(\"Price           :\",product_detail[2])\n",
    "            print(\"Quantity        :\",ui_product_q)\n",
    "            print(\"------------------------------\")\n",
    "            print(\"Billing Amount  :\",int(product_detail[2])*int(ui_product_q))\n",
    "            product_detail[3] = str(int(product_detail[3])-int(ui_product_q))\n",
    "            \n",
    "            #generating sales\n",
    "            fd = open(\"sales.txt\",'a')\n",
    "            sales_details = time.ctime()+\", \"+ ui_username+\", \"+ ui_mail+\", \"+ui_phone+\", \"+str(int(product_detail[3])*int(ui_product_q))+\"\\n\"\n",
    "            fd.write(sales_details)\n",
    "            fd.close()\n",
    "        else:\n",
    "            #if we'rt having  enough quantity\n",
    "            \n",
    "            print(\"Sorry, We have only\",product_detail[3],\"quantity.\")\n",
    "            print(\"W'd you like to purchase, Please press Y/N : \")\n",
    "            ch = input()\n",
    "            if ch == 'Y' or ch == 'y':\n",
    "                print(\"-----------------------------\")\n",
    "                print(\"Product Name    :\",product_detail[1])\n",
    "                print(\"Price           :\",product_detail[2])\n",
    "                print(\"Quantity        :\",product_detail[3])\n",
    "                print(\"------------------------------\")\n",
    "                print(\"Billing Amount  :\",int(product_detail[2])*int(product_detail[3]))\n",
    "                \n",
    "                #generating sales\n",
    "                fd = open(\"sales.txt\",'a')\n",
    "                sales_details = time.ctime()+\", \"+ ui_username+\", \"+ ui_mail+\", \"+ui_phone+\", \"+str(int(product_detail[3])*int(product_detail[2]))+\"\\n\"\n",
    "                fd.write(sales_details)\n",
    "                fd.close()\n",
    "                \n",
    "                product_detail[3] = '0'\n",
    "            else:\n",
    "                print(\"Thanks for your service :)\")\n",
    "    updated_list.append(product_detail)\n",
    "    \n",
    "new_lst = []\n",
    "for i in updated_list:\n",
    "    prod = i[0] + \", \" + i[1] + \", \" + i[2]+\", \"+i[3] + \"\\n\"\n",
    "    new_lst.append(prod)\n",
    "    \n",
    "new_lst[-1] = new_lst[-1][:-1]\n",
    "fd = open(\"Inventory.txt\",'w')\n",
    "\n",
    "for i in new_lst:\n",
    "    fd.write(i)\n",
    "    \n",
    "fd.close()\n",
    "print(\"-----------------\")\n",
    "print(\"Inventory Updated\")"
   ]
  },
  {
   "cell_type": "code",
   "execution_count": 12,
   "id": "26daff45",
   "metadata": {},
   "outputs": [
    {
     "data": {
      "text/plain": [
       "'Sun Jul  2 11:15:03 2023'"
      ]
     },
     "execution_count": 12,
     "metadata": {},
     "output_type": "execute_result"
    }
   ],
   "source": [
    "import time\n",
    "time.ctime()"
   ]
  },
  {
   "cell_type": "code",
   "execution_count": 2,
   "id": "2d08d704",
   "metadata": {},
   "outputs": [
    {
     "name": "stdout",
     "output_type": "stream",
     "text": [
      "1\n",
      "2\n",
      "3\n",
      "4\n"
     ]
    }
   ],
   "source": [
    "fd = open(\"Inventory.txt\",'r')\n",
    "for i in fd:\n",
    "    print(i[0])"
   ]
  },
  {
   "cell_type": "code",
   "execution_count": null,
   "id": "0390e18d",
   "metadata": {},
   "outputs": [],
   "source": []
  },
  {
   "cell_type": "code",
   "execution_count": null,
   "id": "d8b93c6d",
   "metadata": {},
   "outputs": [],
   "source": []
  }
 ],
 "metadata": {
  "kernelspec": {
   "display_name": "Python 3 (ipykernel)",
   "language": "python",
   "name": "python3"
  },
  "language_info": {
   "codemirror_mode": {
    "name": "ipython",
    "version": 3
   },
   "file_extension": ".py",
   "mimetype": "text/x-python",
   "name": "python",
   "nbconvert_exporter": "python",
   "pygments_lexer": "ipython3",
   "version": "3.10.9"
  }
 },
 "nbformat": 4,
 "nbformat_minor": 5
}
